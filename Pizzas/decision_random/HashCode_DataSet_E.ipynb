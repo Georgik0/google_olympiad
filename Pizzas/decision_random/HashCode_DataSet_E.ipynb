{
 "cells": [
  {
   "cell_type": "code",
   "execution_count": 1,
   "metadata": {},
   "outputs": [],
   "source": [
    "#%matplotlib notebook\n",
    "import numpy as np\n",
    "import matplotlib.pyplot as plt\n",
    "import operator\n",
    "import random\n",
    "import time"
   ]
  },
  {
   "cell_type": "code",
   "execution_count": 2,
   "metadata": {},
   "outputs": [],
   "source": [
    "def open_plain_txt(path):\n",
    "    file = open(path, 'r')\n",
    "    text = file.read()\n",
    "    file.close()\n",
    "    return text\n",
    "\n",
    "def get_params(lst):\n",
    "    lst = list(filter(None, lst))\n",
    "    for i in range(len(lst)):\n",
    "        lst[i] = int(lst[i])\n",
    "    return lst\n",
    "\n",
    "def parse_input(path):\n",
    "    text = open_plain_txt(path)\n",
    "    text = text.split('\\n')\n",
    "    params = text[0].split(' ')\n",
    "    params = get_params(params)\n",
    "    pizzas = text[1:]\n",
    "    pizzas = list(filter(None,pizzas))\n",
    "    objs = []\n",
    "    for i in range(len(pizzas)):\n",
    "        objs.append(Pizza(i, pizzas[i].split(' ')))\n",
    "        \n",
    "    return params, objs\n",
    "\n",
    "def get_all_ing(pizza_list):\n",
    "    all_ingredients = set()\n",
    "    for i in range(len(pizza_list)):\n",
    "        all_ingredients = all_ingredients | set(pizza_list[i].ingredients)\n",
    "    return all_ingredients\n",
    "\n",
    "def min_extra_groups(excess):\n",
    "    mod = excess%4\n",
    "    num_twos = 0\n",
    "    num_threes = 0\n",
    "    num_fours = 0\n",
    "    groups_data = [0,0,0]\n",
    "    if mod:\n",
    "        if mod == 1:\n",
    "            num_fours = int(excess/4)-1\n",
    "            num_threes = 1\n",
    "            num_twos = 1\n",
    "        elif mod == 2:\n",
    "            num_fours = int(excess/4)\n",
    "            num_twos = 1\n",
    "        elif mod == 3:\n",
    "            num_fours = int(excess/4)\n",
    "            num_threes = 1\n",
    "    else:\n",
    "        num_fours = int(excess/4)\n",
    "    groups_data[0] = num_twos\n",
    "    groups_data[1] = num_threes\n",
    "    groups_data[2] = num_fours\n",
    "    return groups_data\n",
    "\n",
    "def max_extra_groups(excess):\n",
    "    mod = excess%2\n",
    "    num_twos = 0\n",
    "    num_threes = 0\n",
    "    groups_data = [0,0,0]\n",
    "    if mod:\n",
    "        num_twos = int(excess/2) - 1\n",
    "        num_threes = 1\n",
    "    else:\n",
    "        num_twos = int(excess/2)\n",
    "    groups_data[0] = num_twos\n",
    "    groups_data[1] = num_threes\n",
    "    return groups_data\n",
    "\n",
    "def exercise_info(params, pizza_list):\n",
    "    pizza_amount = params[0]\n",
    "    T2 = params[1]\n",
    "    T3 = params[2]\n",
    "    T4 = params[3]\n",
    "    all_groups = T2 + T3 + T4\n",
    "    pizzas_needed = T2 * 2 + T3 * 3 + T4 * 4\n",
    "    excess = pizzas_needed - pizza_amount\n",
    "    all_ingredients = get_all_ing(pizza_list)\n",
    "    \n",
    "    print(f'Доступно пицц: {pizza_amount}')\n",
    "    print(f'Групп из 2-х человек: {T2}')\n",
    "    print(f'Групп из 3-х человек: {T3}')\n",
    "    print(f'Групп из 4-х человек: {T4}\\n')\n",
    "    print(f'Количество пицц, нужных, чтобы накормить все группы: {pizzas_needed}\\n')\n",
    "    print(f'Всего уникальных ингридиентов {len(all_ingredients)}')"
   ]
  },
  {
   "cell_type": "code",
   "execution_count": 3,
   "metadata": {},
   "outputs": [],
   "source": [
    "def sort_pizza_list(pizza_list):\n",
    "    sorted_pizzas = sorted(pizza_list, key=operator.attrgetter('num_ing'))\n",
    "    return sorted_pizzas"
   ]
  },
  {
   "cell_type": "markdown",
   "metadata": {},
   "source": [
    "Классы"
   ]
  },
  {
   "cell_type": "code",
   "execution_count": 4,
   "metadata": {},
   "outputs": [],
   "source": [
    "class Pizza():\n",
    "    def __init__(self, idx, lst):\n",
    "        self.idx = idx\n",
    "        self.num_ing = int(lst[0])\n",
    "        self.ingredients = lst[1:]\n",
    "\n",
    "class Result():\n",
    "    def __init__(self):\n",
    "        self.point = 0\n",
    "        self.pizzas = []\n",
    "        self.player = 0"
   ]
  },
  {
   "cell_type": "code",
   "execution_count": 5,
   "metadata": {},
   "outputs": [],
   "source": [
    "params, pizza_list = parse_input('e_many_teams.in')\n",
    "sorted_pizza = sort_pizza_list(pizza_list)"
   ]
  },
  {
   "cell_type": "code",
   "execution_count": 6,
   "metadata": {},
   "outputs": [
    {
     "name": "stdout",
     "output_type": "stream",
     "text": [
      "всего игредиетов = 399776\n",
      "Минимальное кол-во ингредиетов = 1\n",
      "Максимальное кол-во ингредиетов = 38\n",
      "Доступно пицц: 100000\n",
      "Групп из 2-х человек: 39748\n",
      "Групп из 3-х человек: 49195\n",
      "Групп из 4-х человек: 29832\n",
      "\n",
      "Количество пицц, нужных, чтобы накормить все группы: 346409\n",
      "\n",
      "Всего уникальных ингридиентов 100\n"
     ]
    },
    {
     "data": {
      "image/png": "[encoded data removed]",
      "text/plain": [
       "<Figure size 432x288 with 1 Axes>"
      ]
     },
     "metadata": {
      "needs_background": "light"
     },
     "output_type": "display_data"
    }
   ],
   "source": [
    "#Сколько всего ингредиетов\n",
    "summ = 0\n",
    "for s_p in sorted_pizza:\n",
    "    summ += len(s_p.ingredients)\n",
    "print(f'всего игредиетов = {summ}')\n",
    "\n",
    "#Вывод полезых значений\n",
    "max_igr_in_pizza = sorted_pizza[0]\n",
    "min_igr_in_pizza = sorted_pizza[-1]\n",
    "print(f'Минимальное кол-во ингредиетов = {len(max_igr_in_pizza.ingredients)}')\n",
    "print(f'Максимальное кол-во ингредиетов = {len(min_igr_in_pizza.ingredients)}')\n",
    "\n",
    "#Гистограмма распределения количества ингридиентов.\n",
    "nums = []\n",
    "for i in range(params[0]):\n",
    "    nums.append(pizza_list[i].num_ing)\n",
    "\n",
    "plt.figure(1)\n",
    "plt.clf()\n",
    "plt.hist(nums, bins=np.arange(min(nums), max(nums)+2), align = 'left', edgecolor = 'black')\n",
    "plt.grid(linestyle = '--')\n",
    "plt.xlim(0,max(nums)+1)\n",
    "plt.xlabel('Кол-во ингридиентов')\n",
    "exercise_info(params, pizza_list)"
   ]
  },
  {
   "cell_type": "code",
   "execution_count": null,
   "metadata": {},
   "outputs": [],
   "source": []
  }
 ],
 "metadata": {
  "kernelspec": {
   "display_name": "Python 3",
   "language": "python",
   "name": "python3"
  },
  "language_info": {
   "codemirror_mode": {
    "name": "ipython",
    "version": 3
   },
   "file_extension": ".py",
   "mimetype": "text/x-python",
   "name": "python",
   "nbconvert_exporter": "python",
   "pygments_lexer": "ipython3",
   "version": "3.7.3"
  }
 },
 "nbformat": 4,
 "nbformat_minor": 4
}
