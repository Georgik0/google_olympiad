{
 "cells": [
  {
   "cell_type": "code",
   "execution_count": 8,
   "metadata": {},
   "outputs": [],
   "source": [
    "#%matplotlib notebook/\n",
    "import numpy as np\n",
    "import matplotlib.pyplot as plt\n",
    "import operator\n",
    "import random\n",
    "import time"
   ]
  },
  {
   "cell_type": "markdown",
   "metadata": {},
   "source": [
    "Парс входных даных и АНАЛиз"
   ]
  },
  {
   "cell_type": "code",
   "execution_count": 9,
   "metadata": {},
   "outputs": [],
   "source": [
    "def open_plain_txt(path):\n",
    "    file = open(path, 'r')\n",
    "    text = file.read()\n",
    "    file.close()\n",
    "    return text\n",
    "\n",
    "def get_params(lst):\n",
    "    lst = list(filter(None, lst))\n",
    "    for i in range(len(lst)):\n",
    "        lst[i] = int(lst[i])\n",
    "    return lst\n",
    "\n",
    "def parse_input(path):\n",
    "    text = open_plain_txt(path)\n",
    "    text = text.split('\\n')\n",
    "    params = text[0].split(' ')\n",
    "    params = get_params(params)\n",
    "    pizzas = text[1:]\n",
    "    pizzas = list(filter(None,pizzas))\n",
    "    objs = []\n",
    "    for i in range(len(pizzas)):\n",
    "        objs.append(Pizza(i, pizzas[i].split(' ')))\n",
    "        \n",
    "    return params, objs\n",
    "\n",
    "def get_all_ing(pizza_list):\n",
    "    all_ingredients = set()\n",
    "    for i in range(len(pizza_list)):\n",
    "        all_ingredients = all_ingredients | set(pizza_list[i].ingredients)\n",
    "    return all_ingredients\n",
    "\n",
    "def min_extra_groups(excess):\n",
    "    mod = excess%4\n",
    "    num_twos = 0\n",
    "    num_threes = 0\n",
    "    num_fours = 0\n",
    "    groups_data = [0,0,0]\n",
    "    if mod:\n",
    "        if mod == 1:\n",
    "            num_fours = int(excess/4)-1\n",
    "            num_threes = 1\n",
    "            num_twos = 1\n",
    "        elif mod == 2:\n",
    "            num_fours = int(excess/4)\n",
    "            num_twos = 1\n",
    "        elif mod == 3:\n",
    "            num_fours = int(excess/4)\n",
    "            num_threes = 1\n",
    "    else:\n",
    "        num_fours = int(excess/4)\n",
    "    groups_data[0] = num_twos\n",
    "    groups_data[1] = num_threes\n",
    "    groups_data[2] = num_fours\n",
    "    return groups_data\n",
    "\n",
    "def max_extra_groups(excess):\n",
    "    mod = excess%2\n",
    "    num_twos = 0\n",
    "    num_threes = 0\n",
    "    groups_data = [0,0,0]\n",
    "    if mod:\n",
    "        num_twos = int(excess/2) - 1\n",
    "        num_threes = 1\n",
    "    else:\n",
    "        num_twos = int(excess/2)\n",
    "    groups_data[0] = num_twos\n",
    "    groups_data[1] = num_threes\n",
    "    return groups_data\n",
    "\n",
    "def exercise_info(params, pizza_list):\n",
    "    pizza_amount = params[0]\n",
    "    T2 = params[1]\n",
    "    T3 = params[2]\n",
    "    T4 = params[3]\n",
    "    all_groups = T2 + T3 + T4\n",
    "    pizzas_needed = T2 * 2 + T3 * 3 + T4 * 4\n",
    "    excess = pizzas_needed - pizza_amount\n",
    "    all_ingredients = get_all_ing(pizza_list)\n",
    "    \n",
    "    print(f'Доступно пицц: {pizza_amount}')\n",
    "    print(f'Групп из 2-х человек: {T2}')\n",
    "    print(f'Групп из 3-х человек: {T3}')\n",
    "    print(f'Групп из 4-х человек: {T4}\\n')\n",
    "    print(f'Количество пицц, нужных, чтобы накормить все группы: {pizzas_needed}\\n')\n",
    "    print(f'Всего уникальных ингридиентов {len(all_ingredients)}')"
   ]
  },
  {
   "cell_type": "markdown",
   "metadata": {},
   "source": [
    "Сортировка"
   ]
  },
  {
   "cell_type": "code",
   "execution_count": 10,
   "metadata": {},
   "outputs": [],
   "source": [
    "def sort_pizza_list(pizza_list):\n",
    "    sorted_pizzas = sorted(pizza_list, key=operator.attrgetter('num_ing'))\n",
    "    return sorted_pizzas"
   ]
  },
  {
   "cell_type": "markdown",
   "metadata": {},
   "source": [
    "Начинаем раздавать пипццы"
   ]
  },
  {
   "cell_type": "code",
   "execution_count": 11,
   "metadata": {},
   "outputs": [],
   "source": [
    "def fill_T4(result, pizza_list):                                       #функция заполнения одной команды из 4-ех\n",
    "    n = 0\n",
    "    count = 0\n",
    "    summ_point = 28\n",
    "    while True:\n",
    "        res = Result()\n",
    "        pizzas = []\n",
    "        all_ingr = set()\n",
    "        if count >= 1000:\n",
    "            summ_point *= 0.4                                           #если случилось более count попыток, двигаем границу\n",
    "        global first, last\n",
    "#         if (last - first) < 4:                                        эти строчки скорее всего не нужны\n",
    "#             first -= 8\n",
    "        for i in range(1, 5):\n",
    "            try:                                                            #возможно надо добавить (try except) для random\n",
    "                n = random.randint(first, last)\n",
    "                random_pizza = pizza_list[n]                                #выбираем рандомную пиццу\n",
    "                while (random_pizza in pizzas):                             #если уже была выбрана - выбираем другую\n",
    "                    n = random.randint(first, last)\n",
    "                    random_pizza = pizza_list[n]\n",
    "            except:\n",
    "#                 print(f'first = {first}, last = {last}')\n",
    "#                 print(f'n = {n}  len(pizza_list) = {len(pizza_list)}')\n",
    "                return -1\n",
    "            pizzas.append(random_pizza)                                 #запоминаем выбор\n",
    "        for p in pizzas:\n",
    "            all_ingr.update(p.ingredients)                              #находим объединеие игнредиентов \n",
    "        if len(all_ingr) >= summ_point:                                       #если уинкальных ингр-ов >= summ_point - все хорошо\n",
    "            for p in pizzas:\n",
    "                pizza_list.remove(p)\n",
    "            last -= 4\n",
    "            res.pizzas = pizzas\n",
    "            res.player = 4\n",
    "            res.point = len(all_ingr)**2\n",
    "            result.append(res)                                          #добавляем команду в result\n",
    "            return\n",
    "        count += 1"
   ]
  },
  {
   "cell_type": "code",
   "execution_count": 12,
   "metadata": {},
   "outputs": [],
   "source": [
    "def fill_T3(result, pizza_list):                                        #функция заполнения одной команды из 3-ех\n",
    "    n = 0\n",
    "    count = 0\n",
    "    summ_point = 21\n",
    "    while True:\n",
    "        res = Result()\n",
    "        pizzas = []\n",
    "        all_ingr = set()\n",
    "        if count >= 1000:\n",
    "            summ_point *= 0.4                                           #если случилось более count попыток, двигаем границу\n",
    "        global first, last\n",
    "        for i in range(1, 4):\n",
    "            try:                                                            #возможно надо добавить (try except) для random\n",
    "                n = random.randint(first, last)\n",
    "                random_pizza = pizza_list[n]                                #выбираем рандомную пиццу\n",
    "                while (random_pizza in pizzas):                             #если уже была выбрана - выбираем другую\n",
    "                    n = random.randint(first, last)\n",
    "                    random_pizza = pizza_list[n]\n",
    "            except:\n",
    "#                 print(f'first = {first}, last = {last}')\n",
    "#                 print(f'n = {n}  len(pizza_list) = {len(pizza_list)}')\n",
    "                return -1\n",
    "            pizzas.append(random_pizza)                                 #запоминаем выбор\n",
    "        for p in pizzas:\n",
    "            all_ingr.update(p.ingredients)\n",
    "        if len(all_ingr) >= summ_point:                                       #если уинкальных ингр-ов >= summ_point - все хорошо\n",
    "            for p in pizzas:\n",
    "                pizza_list.remove(p)\n",
    "            last -= 3\n",
    "            res.pizzas = pizzas\n",
    "            res.player = 3\n",
    "            res.point = len(all_ingr)**2\n",
    "            result.append(res)                                          #добавляем команду в result\n",
    "            return\n",
    "        count += 1"
   ]
  },
  {
   "cell_type": "code",
   "execution_count": 13,
   "metadata": {},
   "outputs": [],
   "source": [
    "def fill_T2(result, pizza_list):                                        #функция заполнения одной команды из 2-ух\n",
    "    n = 0\n",
    "    count = 0\n",
    "    summ_point = 14\n",
    "    while True:\n",
    "        res = Result()\n",
    "        pizzas = []\n",
    "        all_ingr = set()\n",
    "        if count >= 1000:\n",
    "            summ_point *= 0.4                                          #если случилось более 5 попыток, двигаем границу\n",
    "        global first, last\n",
    "        for i in range(1, 3):\n",
    "            try:                                                            #возможно надо добавить (try except) для random\n",
    "                n = random.randint(first, last)\n",
    "                random_pizza = pizza_list[n]                                #выбираем рандомную пиццу\n",
    "                while (random_pizza in pizzas):                             #если уже была выбрана - выбираем другую\n",
    "                    n = random.randint(first, last)\n",
    "                    random_pizza = pizza_list[n]\n",
    "            except:\n",
    "#                 print(f'first = {first}, last = {last}')\n",
    "#                 print(f'n = {n}  len(pizza_list) = {len(pizza_list)}')\n",
    "                return -1\n",
    "            pizzas.append(random_pizza)                                 #запоминаем выбор\n",
    "        for p in pizzas:\n",
    "            all_ingr.update(p.ingredients)\n",
    "        if len(all_ingr) >= summ_point:                                       #если уинкальных ингр-ов >= summ_point - все хорошо\n",
    "            for p in pizzas:\n",
    "                pizza_list.remove(p)\n",
    "            last -= 2\n",
    "            res.pizzas = pizzas\n",
    "            res.player = 2\n",
    "            res.point = len(all_ingr)**2\n",
    "            result.append(res)                                          #добавляем команду в result\n",
    "            return\n",
    "        count += 1"
   ]
  },
  {
   "cell_type": "code",
   "execution_count": 14,
   "metadata": {},
   "outputs": [],
   "source": [
    "def fill_all_commands(T2, T3, T4, pizza_list):\n",
    "    result = []\n",
    "    print(f'T2 + T3 + T4 = {T2 + T3 + T4}')\n",
    "    global first, last\n",
    "    #last и first - это диапапзон из которого будем выбирать\n",
    "    last = len(pizza_list) - 1\n",
    "#     first = int(last * 0.6)\n",
    "    first = 0\n",
    "    while T4 > 0:\n",
    "        fill_T4(result, pizza_list)\n",
    "        T4 -= 1\n",
    "    last = len(pizza_list) - 1\n",
    "#     first = int(last * 0.6)\n",
    "    while T3 > 0:\n",
    "        fill_T3(result, pizza_list)\n",
    "        T3 -= 1\n",
    "    last = len(pizza_list) - 1\n",
    "    first = 0\n",
    "    while T2 > 0:\n",
    "        fill_T2(result, pizza_list)\n",
    "        T2 -= 1\n",
    "    #Вывод баллов команд\n",
    "    print(f'len(result) = {len(result)}')\n",
    "    all_point = 0\n",
    "    for i in result:\n",
    "        all_point += i.point\n",
    "    print(f'всего очков = {all_point}')\n",
    "    return result"
   ]
  },
  {
   "cell_type": "code",
   "execution_count": 15,
   "metadata": {},
   "outputs": [
    {
     "name": "stdout",
     "output_type": "stream",
     "text": [
      "1\n",
      "2\n",
      "3\n",
      "arg = вызов_1  a = 100\n",
      "arg = вызов_2  a = 90\n",
      "len(r) = 0\n",
      "len(r) = 1\n"
     ]
    }
   ],
   "source": [
    "#Тут просто мемы\n",
    "for i in range(1, 4):\n",
    "    print(i)\n",
    "\n",
    "pizza = []\n",
    "p = 0\n",
    "if p in pizza:\n",
    "    print('test')\n",
    "\n",
    "a = 100    \n",
    "def f1(arg):\n",
    "    global a\n",
    "    print (f'arg = {arg}  a = {a}')\n",
    "    a -= 10\n",
    "\n",
    "f1('вызов_1')\n",
    "f1('вызов_2')\n",
    "\n",
    "r = []\n",
    "print(f'len(r) = {len(r)}')\n",
    "def f2(r):\n",
    "    re = Result()\n",
    "    r.append(re)\n",
    "f2(r)\n",
    "print(f'len(r) = {len(r)}')"
   ]
  },
  {
   "cell_type": "markdown",
   "metadata": {},
   "source": [
    "Классы"
   ]
  },
  {
   "cell_type": "code",
   "execution_count": 16,
   "metadata": {},
   "outputs": [],
   "source": [
    "class Pizza():\n",
    "    def __init__(self, idx, lst):\n",
    "        self.idx = idx\n",
    "        self.num_ing = int(lst[0])\n",
    "        self.ingredients = lst[1:]\n",
    "\n",
    "class Result():\n",
    "    def __init__(self):\n",
    "        self.point = 0\n",
    "        self.pizzas = []\n",
    "        self.player = 0"
   ]
  },
  {
   "cell_type": "markdown",
   "metadata": {},
   "source": [
    "Запуск парсеа и статистики"
   ]
  },
  {
   "cell_type": "code",
   "execution_count": 17,
   "metadata": {},
   "outputs": [],
   "source": [
    "params, pizza_list = parse_input('a_example')\n",
    "sorted_pizza = sort_pizza_list(pizza_list)\n",
    "# for i in sorted_pizza:\n",
    "#     print(i.num_ing, end='\\n')"
   ]
  },
  {
   "cell_type": "code",
   "execution_count": 18,
   "metadata": {},
   "outputs": [
    {
     "name": "stdout",
     "output_type": "stream",
     "text": [
      "всего игредиетов = 14\n"
     ]
    }
   ],
   "source": [
    "#Сколько всего ингредиетов\n",
    "summ = 0\n",
    "for s_p in sorted_pizza:\n",
    "    summ += len(s_p.ingredients)\n",
    "print(f'всего игредиетов = {summ}')"
   ]
  },
  {
   "cell_type": "code",
   "execution_count": 19,
   "metadata": {},
   "outputs": [
    {
     "name": "stdout",
     "output_type": "stream",
     "text": [
      "Минимальное кол-во ингредиетов = 2\n",
      "Максимальное кол-во ингредиетов = 3\n"
     ]
    }
   ],
   "source": [
    "#Вывод полезых значений\n",
    "max_igr_in_pizza = sorted_pizza[0]\n",
    "min_igr_in_pizza = sorted_pizza[-1]\n",
    "print(f'Минимальное кол-во ингредиетов = {len(max_igr_in_pizza.ingredients)}')\n",
    "print(f'Максимальное кол-во ингредиетов = {len(min_igr_in_pizza.ingredients)}')"
   ]
  },
  {
   "cell_type": "code",
   "execution_count": 20,
   "metadata": {},
   "outputs": [
    {
     "name": "stdout",
     "output_type": "stream",
     "text": [
      "Доступно пицц: 5\n",
      "Групп из 2-х человек: 1\n",
      "Групп из 3-х человек: 2\n",
      "Групп из 4-х человек: 1\n",
      "\n",
      "Количество пицц, нужных, чтобы накормить все группы: 12\n",
      "\n",
      "Всего уникальных ингридиентов 7\n"
     ]
    },
    {
     "data": {
      "image/png": "[encoded data removed]",
      "text/plain": [
       "<Figure size 432x288 with 1 Axes>"
      ]
     },
     "metadata": {
      "needs_background": "light"
     },
     "output_type": "display_data"
    }
   ],
   "source": [
    "#Гистограмма распределения количества ингридиентов.\n",
    "\n",
    "nums = []\n",
    "for i in range(params[0]):\n",
    "    nums.append(pizza_list[i].num_ing)\n",
    "\n",
    "plt.figure(1)\n",
    "plt.clf()\n",
    "plt.hist(nums, bins=np.arange(min(nums), max(nums)+2), align = 'left', edgecolor = 'black')\n",
    "plt.grid(linestyle = '--')\n",
    "plt.xlim(0,max(nums)+1)\n",
    "plt.xlabel('Кол-во ингридиентов')\n",
    "exercise_info(params, pizza_list)"
   ]
  },
  {
   "cell_type": "code",
   "execution_count": null,
   "metadata": {},
   "outputs": [
    {
     "name": "stdout",
     "output_type": "stream",
     "text": [
      "len(sorted_pizza) = 5\n",
      "T2 + T3 + T4 = 4\n"
     ]
    }
   ],
   "source": [
    "#Распределение пицц\n",
    "T2 = params[1]\n",
    "T3 = params[2]\n",
    "T4 = params[3]\n",
    "print(f'len(sorted_pizza) = {len(sorted_pizza)}')\n",
    "fill_all_commands(T2, T3, T4, sorted_pizza)"
   ]
  },
  {
   "cell_type": "code",
   "execution_count": null,
   "metadata": {},
   "outputs": [],
   "source": []
  }
 ],
 "metadata": {
  "kernelspec": {
   "display_name": "Python 3",
   "language": "python",
   "name": "python3"
  },
  "language_info": {
   "codemirror_mode": {
    "name": "ipython",
    "version": 3
   },
   "file_extension": ".py",
   "mimetype": "text/x-python",
   "name": "python",
   "nbconvert_exporter": "python",
   "pygments_lexer": "ipython3",
   "version": "3.7.3"
  }
 },
 "nbformat": 4,
 "nbformat_minor": 4
}
