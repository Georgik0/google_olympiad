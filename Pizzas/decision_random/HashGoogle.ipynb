{
 "cells": [
  {
   "cell_type": "code",
   "execution_count": 17,
   "metadata": {},
   "outputs": [],
   "source": [
    "import numpy as np\n",
    "import matplotlib.pyplot as plt"
   ]
  },
  {
   "cell_type": "code",
   "execution_count": 18,
   "metadata": {},
   "outputs": [],
   "source": [
    "def open_plain_txt(path):\n",
    "    file = open(path, 'r')\n",
    "    text = file.read()\n",
    "    file.close()\n",
    "    return text"
   ]
  },
  {
   "cell_type": "code",
   "execution_count": 19,
   "metadata": {},
   "outputs": [],
   "source": [
    "def get_params(lst):\n",
    "    lst = list(filter(None, lst))\n",
    "    for i in range(len(lst)):\n",
    "        lst[i] = int(lst[i])\n",
    "    return lst"
   ]
  },
  {
   "cell_type": "code",
   "execution_count": 20,
   "metadata": {},
   "outputs": [],
   "source": [
    "class Pizza():\n",
    "    def __init__(self, lst):\n",
    "        self.num_ing = int(lst[0])\n",
    "        self.ingredients = lst[1:]"
   ]
  },
  {
   "cell_type": "code",
   "execution_count": 23,
   "metadata": {},
   "outputs": [],
   "source": [
    "def parse_input(path):\n",
    "    text = open_plain_txt(path)\n",
    "    text = text.split('\\n')\n",
    "\n",
    "#     for s in text:\n",
    "#         print(s, end=\" \")\n",
    "    params = text[0].split(' ')\n",
    "    params = get_params(params)\n",
    "    pizzas = text[1:]\n",
    "    pizzas = list(filter(None,pizzas))\n",
    "    objs = []\n",
    "    for i in range(len(pizzas)):\n",
    "        objs.append(Pizza(pizzas[i].split(' ')))\n",
    "        \n",
    "#     print(objs.)\n",
    "    return params, objs"
   ]
  },
  {
   "cell_type": "code",
   "execution_count": 7,
   "metadata": {},
   "outputs": [],
   "source": [
    "def get_all_ing(pizza_list):\n",
    "    all_ingredients = set()\n",
    "    for i in range(len(pizza_list)):\n",
    "        all_ingredients = all_ingredients | set(pizza_list[i].ingredients)\n",
    "    return all_ingredients"
   ]
  },
  {
   "cell_type": "code",
   "execution_count": 8,
   "metadata": {},
   "outputs": [],
   "source": [
    "def min_extra_groups(excess):\n",
    "    mod = excess%4\n",
    "    num_twos = 0\n",
    "    num_threes = 0\n",
    "    num_fours = 0\n",
    "    groups_data = [0,0,0]\n",
    "    if mod:\n",
    "        if mod == 1:\n",
    "            num_fours = int(excess/4)-1\n",
    "            num_threes = 1\n",
    "            num_twos = 1\n",
    "        elif mod == 2:\n",
    "            num_fours = int(excess/4)\n",
    "            num_twos = 1\n",
    "        elif mod == 3:\n",
    "            num_fours = int(excess/4)\n",
    "            num_threes = 1\n",
    "    else:\n",
    "        num_fours = int(excess/4)\n",
    "    groups_data[0] = num_twos\n",
    "    groups_data[1] = num_threes\n",
    "    groups_data[2] = num_fours\n",
    "    return groups_data\n",
    "\n",
    "def max_extra_groups(excess):\n",
    "    mod = excess%2\n",
    "    num_twos = 0\n",
    "    num_threes = 0\n",
    "    groups_data = [0,0,0]\n",
    "    if mod:\n",
    "        num_twos = int(excess/2) - 1\n",
    "        num_threes = 1\n",
    "    else:\n",
    "        num_twos = int(excess/2)\n",
    "    groups_data[0] = num_twos\n",
    "    groups_data[1] = num_threes\n",
    "    return groups_data"
   ]
  },
  {
   "cell_type": "code",
   "execution_count": 9,
   "metadata": {},
   "outputs": [],
   "source": [
    "def exercise_info(params, pizza_list):\n",
    "    pizza_amount = params[0]\n",
    "    group_two = params[1]\n",
    "    group_three = params[2]\n",
    "    group_four = params[3]\n",
    "    all_groups = group_two+group_three + group_four\n",
    "    pizzas_needed = group_two*2+group_three*3+group_four*4\n",
    "    excess = pizzas_needed - pizza_amount\n",
    "    all_ingredients = get_all_ing(pizza_list)\n",
    "    \n",
    "    print(f'Доступно пицц: {pizza_amount}')\n",
    "    print(f'Групп из 2-х человек: {group_two}')\n",
    "    print(f'Групп из 3-х человек: {group_three}')\n",
    "    print(f'Групп из 4-х человек: {group_four}\\n')\n",
    "    print(f'Количество пицц, нужных, чтобы накормить все группы: {pizzas_needed}\\n')\n",
    "    print(f'С помощью {pizza_amount} можно накормить:') \n",
    "    print(f'Максимум {all_groups - sum(min_extra_groups(excess))} из {all_groups} групп. ({min_extra_groups(excess)})')\n",
    "    print(f'Минимум {all_groups - sum(max_extra_groups(excess))} из {all_groups} групп. ({max_extra_groups(excess)})\\n')\n",
    "    print(f'Тогда, без учета потерь на совпадающие ингридиенты:') \n",
    "    print(f'Максимальные очки = {100*(all_groups - sum(min_extra_groups(excess)))}')\n",
    "    print(f'Минимальные очки = {100*(all_groups - sum(max_extra_groups(excess)))}')\n",
    "    print(f'Всего уникальных ингридиентов {len(all_ingredients)}: {all_ingredients}')"
   ]
  },
  {
   "cell_type": "code",
   "execution_count": 10,
   "metadata": {},
   "outputs": [],
   "source": [
    "class Result():\n",
    "    def __init__(self):\n",
    "        self.power = 0\n",
    "        self.pizzas = set()"
   ]
  },
  {
   "cell_type": "code",
   "execution_count": 53,
   "metadata": {},
   "outputs": [],
   "source": [
    "def get_combinations(players, pizza_multiplicity, combinations):\n",
    "#     combinations = []\n",
    "    if players == 4:\n",
    "        len_pizza = len(pizza_multiplicity)\n",
    "        i3 = 3\n",
    "        i2 = 2\n",
    "        i1 = 1\n",
    "        i0 = 0\n",
    "        i3_start = i3\n",
    "        i2_start = i2\n",
    "        i1_start = i1\n",
    "        i0_start = i0\n",
    "        while (i0 < len_pizza - 3):\n",
    "            while (i1 < len_pizza - 2):\n",
    "                while (i2 < len_pizza - 1):\n",
    "                    while (i3 < len_pizza):\n",
    "                        # подсчет\n",
    "                        res = Result()\n",
    "                        res.pizzas = set.union(pizza_multiplicity[i0], pizza_multiplicity[i1], pizza_multiplicity[i2], pizza_multiplicity[i3])\n",
    "                        res.power = len(res.pizzas)\n",
    "                        if not combinations:\n",
    "                            combinations.append(res)\n",
    "                        else:\n",
    "                            for s in range(len(combinations) - 1):\n",
    "                                if len(combinations[s].pizzas) <= len(res.pizzas):\n",
    "                                    combinations.insert(s, res)\n",
    "                                    break\n",
    "                            else:\n",
    "                                combinations.append(res)\n",
    "                        i3 += 1\n",
    "                    i2 += 1\n",
    "                    i3_start += 1\n",
    "                    i3 = i3_start\n",
    "                i1 += 1\n",
    "                i2_start += 1\n",
    "                i2 = i2_start\n",
    "                i3 = i3_start = i2_start + 1\n",
    "            i0 += 1\n",
    "            i1_start += 1\n",
    "            i1 = i1_start\n",
    "            i2 = i2_start = i1_start + 1\n",
    "            i3 = i3_start = i2_start + 1"
   ]
  },
  {
   "cell_type": "code",
   "execution_count": 54,
   "metadata": {},
   "outputs": [
    {
     "name": "stdout",
     "output_type": "stream",
     "text": [
      "['mushrooms', 'tomatoes', 'onions', 'pineapple', 'neapolitan-crust', 'emmental-cheese', 'mozzarella', 'cheddar']\n",
      "8\n"
     ]
    },
    {
     "ename": "KeyboardInterrupt",
     "evalue": "",
     "output_type": "error",
     "traceback": [
      "\u001b[1;31m---------------------------------------------------------------------------\u001b[0m",
      "\u001b[1;31mKeyboardInterrupt\u001b[0m                         Traceback (most recent call last)",
      "\u001b[1;32m<ipython-input-54-8dc24ab1e9cc>\u001b[0m in \u001b[0;36m<module>\u001b[1;34m\u001b[0m\n\u001b[0;32m     10\u001b[0m \u001b[1;33m\u001b[0m\u001b[0m\n\u001b[0;32m     11\u001b[0m \u001b[0mcombinations\u001b[0m \u001b[1;33m=\u001b[0m \u001b[1;33m[\u001b[0m\u001b[1;33m]\u001b[0m\u001b[1;33m\u001b[0m\u001b[1;33m\u001b[0m\u001b[0m\n\u001b[1;32m---> 12\u001b[1;33m \u001b[0mget_combinations\u001b[0m\u001b[1;33m(\u001b[0m\u001b[1;36m4\u001b[0m\u001b[1;33m,\u001b[0m \u001b[0mpizza_multiplicity\u001b[0m\u001b[1;33m,\u001b[0m \u001b[0mcombinations\u001b[0m\u001b[1;33m)\u001b[0m\u001b[1;33m\u001b[0m\u001b[1;33m\u001b[0m\u001b[0m\n\u001b[0m\u001b[0;32m     13\u001b[0m \u001b[1;32mfor\u001b[0m \u001b[0mc\u001b[0m \u001b[1;32min\u001b[0m \u001b[0mcombination\u001b[0m\u001b[1;33m:\u001b[0m\u001b[1;33m\u001b[0m\u001b[1;33m\u001b[0m\u001b[0m\n\u001b[0;32m     14\u001b[0m     \u001b[0mprint\u001b[0m\u001b[1;33m(\u001b[0m\u001b[0mc\u001b[0m\u001b[1;33m.\u001b[0m\u001b[0mpower\u001b[0m\u001b[1;33m,\u001b[0m \u001b[0mend\u001b[0m\u001b[1;33m=\u001b[0m\u001b[1;34m'\\n'\u001b[0m\u001b[1;33m)\u001b[0m\u001b[1;33m\u001b[0m\u001b[1;33m\u001b[0m\u001b[0m\n",
      "\u001b[1;32m<ipython-input-53-ed2fc6e4d8d6>\u001b[0m in \u001b[0;36mget_combinations\u001b[1;34m(players, pizza_multiplicity, combinations)\u001b[0m\n\u001b[0;32m     23\u001b[0m                         \u001b[1;32melse\u001b[0m\u001b[1;33m:\u001b[0m\u001b[1;33m\u001b[0m\u001b[1;33m\u001b[0m\u001b[0m\n\u001b[0;32m     24\u001b[0m                             \u001b[1;32mfor\u001b[0m \u001b[0ms\u001b[0m \u001b[1;32min\u001b[0m \u001b[0mrange\u001b[0m\u001b[1;33m(\u001b[0m\u001b[0mlen\u001b[0m\u001b[1;33m(\u001b[0m\u001b[0mcombinations\u001b[0m\u001b[1;33m)\u001b[0m \u001b[1;33m-\u001b[0m \u001b[1;36m1\u001b[0m\u001b[1;33m)\u001b[0m\u001b[1;33m:\u001b[0m\u001b[1;33m\u001b[0m\u001b[1;33m\u001b[0m\u001b[0m\n\u001b[1;32m---> 25\u001b[1;33m                                 \u001b[1;32mif\u001b[0m \u001b[0mlen\u001b[0m\u001b[1;33m(\u001b[0m\u001b[0mcombinations\u001b[0m\u001b[1;33m[\u001b[0m\u001b[0ms\u001b[0m\u001b[1;33m]\u001b[0m\u001b[1;33m.\u001b[0m\u001b[0mpizzas\u001b[0m\u001b[1;33m)\u001b[0m \u001b[1;33m<=\u001b[0m \u001b[0mlen\u001b[0m\u001b[1;33m(\u001b[0m\u001b[0mres\u001b[0m\u001b[1;33m.\u001b[0m\u001b[0mpizzas\u001b[0m\u001b[1;33m)\u001b[0m\u001b[1;33m:\u001b[0m\u001b[1;33m\u001b[0m\u001b[1;33m\u001b[0m\u001b[0m\n\u001b[0m\u001b[0;32m     26\u001b[0m                                     \u001b[0mcombinations\u001b[0m\u001b[1;33m.\u001b[0m\u001b[0minsert\u001b[0m\u001b[1;33m(\u001b[0m\u001b[0ms\u001b[0m\u001b[1;33m,\u001b[0m \u001b[0mres\u001b[0m\u001b[1;33m)\u001b[0m\u001b[1;33m\u001b[0m\u001b[1;33m\u001b[0m\u001b[0m\n\u001b[0;32m     27\u001b[0m                                     \u001b[1;32mbreak\u001b[0m\u001b[1;33m\u001b[0m\u001b[1;33m\u001b[0m\u001b[0m\n",
      "\u001b[1;31mKeyboardInterrupt\u001b[0m: "
     ]
    }
   ],
   "source": [
    "params, pizza_list = parse_input('b_little_bit_of_everything.in')\n",
    "#params, pizza_list = parse_input('a_example')\n",
    "print(pizza_list[1].ingredients)\n",
    "print(pizza_list[1].num_ing)\n",
    "\n",
    "# создаем множества\n",
    "pizza_multiplicity = []\n",
    "for i in range(len(pizza_list)):\n",
    "    pizza_multiplicity.append(set(pizza_list[i].ingredients))\n",
    "    \n",
    "combinations = []\n",
    "get_combinations(4, pizza_multiplicity, combinations)\n",
    "for c in combination:\n",
    "    print(c.power, end='\\n')\n",
    "\n",
    "\n",
    "# for i in pizza_multiplicity:\n",
    "#     print(i, end='\\n')\n",
    "\n",
    "# for i in params:\n",
    "#     print(i, end=' ')"
   ]
  },
  {
   "cell_type": "code",
   "execution_count": null,
   "metadata": {},
   "outputs": [],
   "source": [
    "# выбираем команду с максимальым количеством человек\n"
   ]
  },
  {
   "cell_type": "code",
   "execution_count": 35,
   "metadata": {},
   "outputs": [
    {
     "name": "stdout",
     "output_type": "stream",
     "text": [
      "Доступно пицц: 500\n",
      "Групп из 2-х человек: 65\n",
      "Групп из 3-х человек: 60\n",
      "Групп из 4-х человек: 60\n",
      "\n",
      "Количество пицц, нужных, чтобы накормить все группы: 550\n",
      "\n",
      "С помощью 500 можно накормить:\n",
      "Максимум 172 из 185 групп. ([1, 0, 12])\n",
      "Минимум 160 из 185 групп. ([25, 0, 0])\n",
      "\n",
      "Тогда, без учета потерь на совпадающие ингридиенты:\n",
      "Максимальные очки = 17200\n",
      "Минимальные очки = 16000\n",
      "Всего уникальных ингридиентов 10: {'mushrooms', 'cheddar', 'emmental-cheese', 'basil', 'ham', 'mozzarella', 'tomatoes', 'pineapple', 'onions', 'neapolitan-crust'}\n"
     ]
    },
    {
     "data": {
      "image/png": "[encoded data removed]",
      "text/plain": [
       "<Figure size 432x288 with 1 Axes>"
      ]
     },
     "metadata": {
      "needs_background": "light"
     },
     "output_type": "display_data"
    }
   ],
   "source": [
    "#Гистограмма распределения количества ингридиентов.\n",
    "\n",
    "nums = []\n",
    "for i in range(params[0]):\n",
    "    nums.append(pizza_list[i].num_ing)\n",
    "\n",
    "plt.figure(1)\n",
    "plt.clf()\n",
    "plt.hist(nums, bins=np.arange(min(nums), max(nums)+2), align = 'left', edgecolor = 'black')\n",
    "plt.grid(linestyle = '--')\n",
    "plt.xlim(0,max(nums)+1)\n",
    "plt.xlabel('Кол-во ингридиентов')\n",
    "exercise_info(params, pizza_list)\n"
   ]
  }
 ],
 "metadata": {
  "kernelspec": {
   "display_name": "Python 3",
   "language": "python",
   "name": "python3"
  },
  "language_info": {
   "codemirror_mode": {
    "name": "ipython",
    "version": 3
   },
   "file_extension": ".py",
   "mimetype": "text/x-python",
   "name": "python",
   "nbconvert_exporter": "python",
   "pygments_lexer": "ipython3",
   "version": "3.7.3"
  }
 },
 "nbformat": 4,
 "nbformat_minor": 4
}
