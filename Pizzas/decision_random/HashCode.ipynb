{
 "cells": [
  {
   "cell_type": "code",
   "execution_count": 1,
   "metadata": {},
   "outputs": [],
   "source": [
    "#%matplotlib notebook\n",
    "import numpy as np\n",
    "import matplotlib.pyplot as plt\n",
    "import operator\n",
    "import random\n",
    "import time"
   ]
  },
  {
   "cell_type": "markdown",
   "metadata": {},
   "source": [
    "# Объявление всех функций и классов"
   ]
  },
  {
   "cell_type": "markdown",
   "metadata": {},
   "source": [
    "Открываем файл"
   ]
  },
  {
   "cell_type": "code",
   "execution_count": 2,
   "metadata": {},
   "outputs": [],
   "source": [
    "def open_plain_txt(path):\n",
    "    file = open(path, 'r')\n",
    "    text = file.read()\n",
    "    file.close()\n",
    "    return text"
   ]
  },
  {
   "cell_type": "markdown",
   "metadata": {},
   "source": [
    "Получаем параметры, из str перегоняем в int"
   ]
  },
  {
   "cell_type": "code",
   "execution_count": 3,
   "metadata": {},
   "outputs": [],
   "source": [
    "def get_params(lst):\n",
    "    lst = list(filter(None, lst))\n",
    "    for i in range(len(lst)):\n",
    "        lst[i] = int(lst[i])\n",
    "    return lst"
   ]
  },
  {
   "cell_type": "markdown",
   "metadata": {},
   "source": [
    "Парсим херню, получаем список с параметрами задачи и список с объектами пицц"
   ]
  },
  {
   "cell_type": "code",
   "execution_count": 4,
   "metadata": {},
   "outputs": [],
   "source": [
    "def parse_input(path):\n",
    "    text = open_plain_txt(path)\n",
    "    text = text.split('\\n')\n",
    "    params = text[0].split(' ')\n",
    "    params = get_params(params)\n",
    "    pizzas = text[1:]\n",
    "    pizzas = list(filter(None,pizzas))\n",
    "    objs = []\n",
    "    for i in range(len(pizzas)):\n",
    "        objs.append(Pizza(i, pizzas[i].split(' ')))\n",
    "        \n",
    "    return params, objs"
   ]
  },
  {
   "cell_type": "markdown",
   "metadata": {},
   "source": [
    "Функция, чтобы выяснить качество и количество уникальных ингридиентров"
   ]
  },
  {
   "cell_type": "code",
   "execution_count": 5,
   "metadata": {},
   "outputs": [],
   "source": [
    "def get_all_ing(pizza_list):\n",
    "    all_ingredients = set()\n",
    "    for i in range(len(pizza_list)):\n",
    "        all_ingredients = all_ingredients | set(pizza_list[i].ingredients)\n",
    "    return all_ingredients"
   ]
  },
  {
   "cell_type": "markdown",
   "metadata": {},
   "source": [
    "Это для АНАЛиза, можете забить на эту функцию"
   ]
  },
  {
   "cell_type": "code",
   "execution_count": 6,
   "metadata": {},
   "outputs": [],
   "source": [
    "def min_extra_groups(excess):\n",
    "    mod = excess%4\n",
    "    num_twos = 0\n",
    "    num_threes = 0\n",
    "    num_fours = 0\n",
    "    groups_data = [0,0,0]\n",
    "    if mod:\n",
    "        if mod == 1:\n",
    "            num_fours = int(excess/4)-1\n",
    "            num_threes = 1\n",
    "            num_twos = 1\n",
    "        elif mod == 2:\n",
    "            num_fours = int(excess/4)\n",
    "            num_twos = 1\n",
    "        elif mod == 3:\n",
    "            num_fours = int(excess/4)\n",
    "            num_threes = 1\n",
    "    else:\n",
    "        num_fours = int(excess/4)\n",
    "    groups_data[0] = num_twos\n",
    "    groups_data[1] = num_threes\n",
    "    groups_data[2] = num_fours\n",
    "    return groups_data\n",
    "\n",
    "def max_extra_groups(excess):\n",
    "    mod = excess%2\n",
    "    num_twos = 0\n",
    "    num_threes = 0\n",
    "    groups_data = [0,0,0]\n",
    "    if mod:\n",
    "        num_twos = int(excess/2) - 1\n",
    "        num_threes = 1\n",
    "    else:\n",
    "        num_twos = int(excess/2)\n",
    "    groups_data[0] = num_twos\n",
    "    groups_data[1] = num_threes\n",
    "    return groups_data"
   ]
  },
  {
   "cell_type": "markdown",
   "metadata": {},
   "source": [
    "Тоже для анализа"
   ]
  },
  {
   "cell_type": "code",
   "execution_count": 18,
   "metadata": {},
   "outputs": [],
   "source": [
    "def exercise_info(params, pizza_list):\n",
    "    pizza_amount = params[0]\n",
    "    group_two = params[1]\n",
    "    group_three = params[2]\n",
    "    group_four = params[3]\n",
    "    all_groups = group_two+group_three + group_four\n",
    "    pizzas_needed = group_two*2+group_three*3+group_four*4\n",
    "    excess = pizzas_needed - pizza_amount\n",
    "    all_ingredients = get_all_ing(pizza_list)\n",
    "    \n",
    "    print(f'Доступно пицц: {pizza_amount}')\n",
    "    print(f'Групп из 2-х человек: {group_two}')\n",
    "    print(f'Групп из 3-х человек: {group_three}')\n",
    "    print(f'Групп из 4-х человек: {group_four}\\n')\n",
    "    print(f'Количество пицц, нужных, чтобы накормить все группы: {pizzas_needed}\\n')\n",
    "    print(f'С помощью {pizza_amount} можно накормить:') \n",
    "    print(f'Максимум {all_groups - sum(min_extra_groups(excess))} из {all_groups} групп. ({min_extra_groups(excess)})')\n",
    "    print(f'Минимум {all_groups - sum(max_extra_groups(excess))} из {all_groups} групп. ({max_extra_groups(excess)})\\n')\n",
    "    print(f'Тогда, без учета потерь на совпадающие ингридиенты:') \n",
    "    print(f'Максимальные очки = {100*(all_groups - sum(min_extra_groups(excess)))}')\n",
    "    print(f'Минимальные очки = {100*(all_groups - sum(max_extra_groups(excess)))}')\n",
    "    print(f'Всего уникальных ингридиентов {len(all_ingredients)}: {all_ingredients}')"
   ]
  },
  {
   "cell_type": "markdown",
   "metadata": {},
   "source": [
    "Класс с пиццей, это мы обсуждали"
   ]
  },
  {
   "cell_type": "code",
   "execution_count": 19,
   "metadata": {},
   "outputs": [],
   "source": [
    "class Pizza():\n",
    "    def __init__(self, idx, lst):\n",
    "        self.idx = idx\n",
    "        self.num_ing = int(lst[0])\n",
    "        self.ingredients = lst[1:]"
   ]
  },
  {
   "cell_type": "markdown",
   "metadata": {},
   "source": [
    "Тут все более интересно, этот класс собирает группу, и потом в себя вбирает объекты пицц, более подробно при созвоне, если таковой случится"
   ]
  },
  {
   "cell_type": "code",
   "execution_count": 20,
   "metadata": {},
   "outputs": [],
   "source": [
    "class ConstructGroup():\n",
    "    \n",
    "    def __init__(self, num_members):\n",
    "        self.num_members = num_members\n",
    "        \n",
    "    def retrieval_method(self, pizza_list, ceil, eps):\n",
    "        start = time.time()\n",
    "        while True:\n",
    "            pizzas_ordered = []\n",
    "            init_set = set()\n",
    "            all_ing = 0\n",
    "            \n",
    "            while len(pizzas_ordered) < self.num_members:\n",
    "                random_selection = random.choice(pizza_list)\n",
    "                if random_selection not in pizzas_ordered:\n",
    "                    pizzas_ordered.append(random_selection)\n",
    "\n",
    "            for i in range(self.num_members):\n",
    "                init_set = init_set | set(pizzas_ordered[i].ingredients)\n",
    "                all_ing += pizzas_ordered[i].num_ing\n",
    "            if all_ing in ceil and (all_ing - len(init_set)) < eps:\n",
    "                break\n",
    "            if time.time() - start > 5:\n",
    "                pizzas_ordered = None\n",
    "                break\n",
    "        self.score = len(init_set)\n",
    "        return pizzas_ordered\n",
    "    \n",
    "    def get_pizza(self, pizza_list, ceil, eps):\n",
    "        self.pizzas_eaten = self.retrieval_method(pizza_list, ceil, eps)\n",
    "        \n",
    "    def delete_pizza(self, pizza_list):\n",
    "        for i in range(len(self.pizzas_eaten)):\n",
    "            pizza_list.remove(self.pizzas_eaten[i])\n",
    "    \n",
    "#     def count_score(self):\n",
    "#         self.score = 0\n",
    "#         for i in range(len(self.pizzas_eaten)):\n",
    "#             #переделать\n",
    "            \n",
    "#             self.score += self.pizzas_eaten[i].num_ing"
   ]
  },
  {
   "cell_type": "markdown",
   "metadata": {},
   "source": [
    "Функция которая сортирует список пицц по кол-ву ингридиентов, напрямую не используется, но возможно когда нибудь пригодится"
   ]
  },
  {
   "cell_type": "code",
   "execution_count": 10,
   "metadata": {},
   "outputs": [],
   "source": [
    "def sort_pizza_list(pizza_list):\n",
    "    sorted_pizzas = sorted(pizza_list, key=operator.attrgetter('num_ing'))\n",
    "    return sorted_pizzas"
   ]
  },
  {
   "cell_type": "markdown",
   "metadata": {},
   "source": [
    "Туповатая функция, делает следующее: создаем группы (с одним кол-вом членов азазаз) с пиццами до тех пор, пока к жопе не припрет и вайл не сдохнет"
   ]
  },
  {
   "cell_type": "code",
   "execution_count": 11,
   "metadata": {},
   "outputs": [],
   "source": [
    "def assemble_groups_cont(params, pizza_list, num_members, ceil, eps):\n",
    "    groups = []\n",
    "    scores = []\n",
    "    score = 0\n",
    "    for i in range(params[num_members-1]):\n",
    "        obj = ConstructGroup(num_members)\n",
    "        try:\n",
    "            obj.get_pizza(pizza_list, ceil, eps)\n",
    "        except:\n",
    "            print('No more pizzas.')\n",
    "            break\n",
    "        if obj.pizzas_eaten and len(pizza_list)>0:\n",
    "            groups.append(obj)\n",
    "            try:\n",
    "                obj.delete_pizza(pizza_list)\n",
    "            except Exception as e:\n",
    "                print(e)\n",
    "            scores.append(obj.score)\n",
    "            params[num_members-1] -= 1\n",
    "#             print(i+1, len(pizza_list)) #Закоментировать чтобы циферками не пердело.\n",
    "        else:\n",
    "            print('Timeout')\n",
    "            break\n",
    "    return groups, scores"
   ]
  },
  {
   "cell_type": "markdown",
   "metadata": {},
   "source": [
    "Создает группы с рандомным количеством членов. Эту функцию я не доделал, ну и хер с ней."
   ]
  },
  {
   "cell_type": "code",
   "execution_count": 12,
   "metadata": {},
   "outputs": [],
   "source": [
    "def assemble_groups_rand(params, pizza_list, ceil, eps):\n",
    "    groups = []\n",
    "    scores = []\n",
    "    score = 0\n",
    "    timeouts = 0\n",
    "    iteration = 0\n",
    "    while sum(params[1:4]) > 0:\n",
    "        #Тут надо переделать, в прошлый раз получилось params = [12,14,-15]\n",
    "        num_members = np.random.randint(2,5)\n",
    "        obj = ConstructGroup(num_members)\n",
    "        obj.get_pizza(pizza_list, ceil, eps)\n",
    "        if obj.pizzas_eaten:\n",
    "            timeouts = 0\n",
    "            groups.append(obj)\n",
    "            try:\n",
    "                obj.delete_pizza(pizza_list)\n",
    "            except Exception as e:\n",
    "                print(e)\n",
    "            scores.append(obj.score)\n",
    "            params[num_members-1] -= 1\n",
    "            iteration += 1\n",
    "            print(iteration, len(pizza_list))\n",
    "        else:\n",
    "            timeouts += 1\n",
    "            print(f'Timeout #{timeouts}')\n",
    "        if timeouts > 10:\n",
    "            print('Cycle ended')\n",
    "            break\n",
    "    return groups, scores"
   ]
  },
  {
   "cell_type": "markdown",
   "metadata": {},
   "source": [
    "# Запускаем код"
   ]
  },
  {
   "cell_type": "markdown",
   "metadata": {},
   "source": [
    "Сначала парсим говно"
   ]
  },
  {
   "cell_type": "code",
   "execution_count": 13,
   "metadata": {},
   "outputs": [],
   "source": [
    "# params, pizza_list = parse_input('b_little_bit_of_everything.in')\n",
    "params, pizza_list = parse_input('c_many_ingredients.in') \n",
    "sorted_pizzas = sort_pizza_list(pizza_list)\n",
    "#params, pizza_list = parse_input('a_example')"
   ]
  },
  {
   "cell_type": "markdown",
   "metadata": {},
   "source": [
    "Запускаем говно, чтобы заполнило все гуппы по 4. Можно было бы сделать функцию, но мне было лень. Оно там циферками напердит, первая - номер итерации, вторая - кол-во пицц оставшихся. Для дебага. Можно закоментировать в функции assemble_groups_cont"
   ]
  },
  {
   "cell_type": "code",
   "execution_count": 14,
   "metadata": {
    "scrolled": true
   },
   "outputs": [
    {
     "name": "stdout",
     "output_type": "stream",
     "text": [
      "Timeout\n",
      "Timeout\n",
      "Timeout\n",
      "Timeout\n",
      "Timeout\n",
      "Timeout\n",
      "Timeout\n",
      "Timeout\n",
      "Timeout\n",
      "Timeout\n",
      "Timeout\n",
      "Timeout\n",
      "Timeout\n",
      "Timeout\n",
      "Timeout\n",
      "Timeout\n",
      "Timeout\n",
      "Timeout\n",
      "Timeout\n",
      "Timeout\n",
      "Timeout\n",
      "Timeout\n",
      "Timeout\n",
      "Timeout\n",
      "Timeout\n",
      "Timeout\n",
      "Timeout\n",
      "Timeout\n",
      "Timeout\n",
      "Timeout\n",
      "Timeout\n",
      "Timeout\n",
      "Timeout\n",
      "Timeout\n",
      "No more pizzas.\n",
      "No more pizzas.\n",
      "No more pizzas.\n",
      "Timeout\n",
      "Timeout\n",
      "Timeout\n",
      "Timeout\n",
      "Timeout\n",
      "Timeout\n",
      "Timeout\n",
      "Timeout\n",
      "Timeout\n",
      "Timeout\n",
      "Timeout\n",
      "Timeout\n",
      "Timeout\n",
      "Timeout\n",
      "Timeout\n",
      "Timeout\n",
      "Timeout\n",
      "Timeout\n",
      "Timeout\n",
      "Timeout\n",
      "Timeout\n",
      "Timeout\n",
      "Timeout\n",
      "Timeout\n",
      "Timeout\n",
      "Timeout\n",
      "Timeout\n",
      "Timeout\n",
      "Timeout\n",
      "Timeout\n",
      "Timeout\n",
      "Timeout\n",
      "Timeout\n",
      "Timeout\n",
      "Timeout\n",
      "Timeout\n",
      "Timeout\n",
      "Timeout\n",
      "Timeout\n",
      "Timeout\n",
      "Timeout\n",
      "Timeout\n",
      "Timeout\n",
      "Timeout\n",
      "Timeout\n",
      "Timeout\n",
      "Timeout\n",
      "Timeout\n",
      "Timeout\n",
      "Timeout\n",
      "Timeout\n",
      "Timeout\n",
      "Timeout\n",
      "Timeout\n",
      "Timeout\n",
      "Timeout\n",
      "Timeout\n",
      "Timeout\n",
      "Timeout\n",
      "Timeout\n",
      "Timeout\n",
      "Timeout\n"
     ]
    }
   ],
   "source": [
    "num_members = 4\n",
    "ideal = 10\n",
    "eps = 2\n",
    "iteration = 0\n",
    "groups_of_4 = []\n",
    "scores4 = []\n",
    "while params[num_members-1] > 0:\n",
    "    ceil = np.arange(ideal-iteration, ideal+iteration+1)\n",
    "    assembled = assemble_groups_cont(params, pizza_list, num_members, ceil, eps)\n",
    "    groups_of_4 += assembled[0]\n",
    "    scores4 += assembled[1]\n",
    "    iteration += 1 "
   ]
  },
  {
   "cell_type": "markdown",
   "metadata": {},
   "source": [
    "Точно то же самое только для групп из трех."
   ]
  },
  {
   "cell_type": "code",
   "execution_count": null,
   "metadata": {
    "scrolled": true
   },
   "outputs": [],
   "source": [
    "num_members = 3\n",
    "ideal = 10\n",
    "eps = 2\n",
    "iteration = 0\n",
    "groups_of_3 = []\n",
    "scores3 = []\n",
    "while params[num_members-1] > 0:\n",
    "    ceil = np.arange(ideal-iteration, ideal+iteration+1)\n",
    "    assembled = assemble_groups_cont(params, pizza_list, num_members, ceil, eps)\n",
    "    groups_of_3 += assembled[0]\n",
    "    scores3 += assembled[1]\n",
    "    iteration += 1 "
   ]
  },
  {
   "cell_type": "markdown",
   "metadata": {},
   "source": [
    "Для групп по двое. Дуэль. 4 это короче, голландский штурвал. Если виснет, значит ждите"
   ]
  },
  {
   "cell_type": "code",
   "execution_count": null,
   "metadata": {
    "scrolled": true
   },
   "outputs": [],
   "source": [
    "num_members = 2\n",
    "ideal = 10\n",
    "eps = 2\n",
    "iteration = 0\n",
    "groups_of_2 = []\n",
    "scores2 = []\n",
    "while params[num_members-1] > 0 and len(pizza_list) > 0:\n",
    "    ceil = np.arange(ideal-iteration, ideal+iteration+1)\n",
    "    assembled = assemble_groups_cont(params, pizza_list, num_members, ceil, eps)\n",
    "    groups_of_2 += assembled[0]\n",
    "    scores2 += assembled[1]\n",
    "    iteration += 1 "
   ]
  },
  {
   "cell_type": "markdown",
   "metadata": {},
   "source": [
    "#  Вывод результатов"
   ]
  },
  {
   "cell_type": "code",
   "execution_count": null,
   "metadata": {},
   "outputs": [],
   "source": [
    "pizzas_delivered = len(groups_of_4)*4 + len(groups_of_3)*3 + len(groups_of_2)*2\n",
    "overall_score = np.sum(np.asarray(scores4)**2) + np.sum(np.asarray(scores3)**2) + np.sum(np.asarray(scores2)**2)\n",
    "groups = []\n",
    "groups = groups_of_4 + groups_of_3 + groups_of_2\n",
    "deliveries = len(groups)\n",
    "\n",
    "print(f\"Использовано пицц: {pizzas_delivered}\")\n",
    "print(f\"Заполнено групп: {deliveries}\")\n",
    "print(f\"Получено очков: {overall_score}\")\n"
   ]
  },
  {
   "cell_type": "markdown",
   "metadata": {},
   "source": [
    "Вывод результатов в файл"
   ]
  },
  {
   "cell_type": "code",
   "execution_count": 319,
   "metadata": {},
   "outputs": [],
   "source": [
    "output_file = open(\"HashCode_out\", \"w+\")\n",
    "output_file.write(f\"{deliveries}\\n\")\n",
    "\n",
    "for i in range(len(groups)):\n",
    "    string = f\"{groups[i].num_members}\"\n",
    "    for j in range(len(groups[i].pizzas_eaten)):\n",
    "        pizza = groups[i].pizzas_eaten[j].idx\n",
    "        string += f\" {pizza}\"\n",
    "    output_file.write(string + '\\n')\n",
    "output_file.close()"
   ]
  },
  {
   "cell_type": "code",
   "execution_count": null,
   "metadata": {},
   "outputs": [],
   "source": [
    "#Гистограмма распределения количества ингридиентов.\n",
    "\n",
    "nums = []\n",
    "for i in range(params[0]):\n",
    "    nums.append(pizza_list[i].num_ing)\n",
    "\n",
    "plt.figure(1)\n",
    "plt.clf()\n",
    "plt.hist(nums, bins=np.arange(min(nums), max(nums)+2), align = 'left', edgecolor = 'black')\n",
    "plt.grid(linestyle = '--')\n",
    "plt.xlim(0,max(nums)+1)\n",
    "plt.xlabel('Кол-во ингридиентов')\n",
    "exercise_info(params, pizza_list)"
   ]
  },
  {
   "cell_type": "code",
   "execution_count": 254,
   "metadata": {},
   "outputs": [],
   "source": [
    "# ideal = 10\n",
    "# eps = 2\n",
    "# iteration = 0\n",
    "# groups = []\n",
    "# scores = []\n",
    "# while sum(params[1:4]) > 0:\n",
    "#     ceil = np.arange(ideal-iteration, ideal+iteration+1)\n",
    "#     assembled = assemble_groups_rand(params, pizza_list, ceil, eps)\n",
    "#     groups += assembled[0]\n",
    "#     scores += assembled[1]\n",
    "#     iteration += 1 "
   ]
  },
  {
   "cell_type": "code",
   "execution_count": 231,
   "metadata": {},
   "outputs": [],
   "source": [
    "# ceil = [8,9,10,11,12]\n",
    "# eps = 3\n",
    "# groups, scores = assemble_groups_rand(params, pizza_list, ceil, eps)"
   ]
  }
 ],
 "metadata": {
  "kernelspec": {
   "display_name": "Python 3",
   "language": "python",
   "name": "python3"
  },
  "language_info": {
   "codemirror_mode": {
    "name": "ipython",
    "version": 3
   },
   "file_extension": ".py",
   "mimetype": "text/x-python",
   "name": "python",
   "nbconvert_exporter": "python",
   "pygments_lexer": "ipython3",
   "version": "3.7.3"
  }
 },
 "nbformat": 4,
 "nbformat_minor": 4
}
